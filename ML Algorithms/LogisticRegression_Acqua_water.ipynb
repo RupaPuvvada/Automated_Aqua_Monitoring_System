{
  "cells": [
    {
      "cell_type": "code",
      "execution_count": null,
      "metadata": {
        "id": "s_Axz2kLYHH2"
      },
      "outputs": [],
      "source": [
        "# Import libraries, features and settings (not all of these are needed so pull what you need)\n",
        "\n",
        "import matplotlib.pyplot as plt\n",
        "import numpy as np\n",
        "from sklearn import datasets, linear_model\n",
        "from sklearn.metrics import mean_squared_error, r2_score\n",
        "import pandas as pd\n",
        "import io\n",
        "%matplotlib inline\n",
        "import matplotlib.pyplot as plt\n",
        "import seaborn as sns; sns.set()\n",
        "from sklearn import preprocessing\n",
        "plt.rc(\"font\", size = 14)\n",
        "from sklearn.linear_model import LogisticRegression\n",
        "from sklearn.model_selection import train_test_split\n",
        "sns.set(style=\"white\")\n",
        "sns.set(style=\"whitegrid\", color_codes = True)"
      ]
    },
    {
      "cell_type": "code",
      "execution_count": null,
      "metadata": {
        "id": "YtDrkECZY2z5",
        "outputId": "583e4bdc-973b-44cb-99de-784b03ea665a"
      },
      "outputs": [
        {
          "data": {
            "text/html": [
              "<div>\n",
              "<style scoped>\n",
              "    .dataframe tbody tr th:only-of-type {\n",
              "        vertical-align: middle;\n",
              "    }\n",
              "\n",
              "    .dataframe tbody tr th {\n",
              "        vertical-align: top;\n",
              "    }\n",
              "\n",
              "    .dataframe thead th {\n",
              "        text-align: right;\n",
              "    }\n",
              "</style>\n",
              "<table border=\"1\" class=\"dataframe\">\n",
              "  <thead>\n",
              "    <tr style=\"text-align: right;\">\n",
              "      <th></th>\n",
              "      <th>sno</th>\n",
              "      <th>Temperature</th>\n",
              "      <th>pH</th>\n",
              "      <th>Turbidity</th>\n",
              "      <th>Water_quality</th>\n",
              "    </tr>\n",
              "  </thead>\n",
              "  <tbody>\n",
              "    <tr>\n",
              "      <th>0</th>\n",
              "      <td>0</td>\n",
              "      <td>20.99</td>\n",
              "      <td>7.81</td>\n",
              "      <td>197</td>\n",
              "      <td>Good</td>\n",
              "    </tr>\n",
              "    <tr>\n",
              "      <th>1</th>\n",
              "      <td>1</td>\n",
              "      <td>20.99</td>\n",
              "      <td>7.81</td>\n",
              "      <td>197</td>\n",
              "      <td>Good</td>\n",
              "    </tr>\n",
              "    <tr>\n",
              "      <th>2</th>\n",
              "      <td>2</td>\n",
              "      <td>20.98</td>\n",
              "      <td>7.81</td>\n",
              "      <td>197</td>\n",
              "      <td>Good</td>\n",
              "    </tr>\n",
              "    <tr>\n",
              "      <th>3</th>\n",
              "      <td>3</td>\n",
              "      <td>20.98</td>\n",
              "      <td>7.81</td>\n",
              "      <td>197</td>\n",
              "      <td>Good</td>\n",
              "    </tr>\n",
              "    <tr>\n",
              "      <th>4</th>\n",
              "      <td>4</td>\n",
              "      <td>20.98</td>\n",
              "      <td>7.81</td>\n",
              "      <td>197</td>\n",
              "      <td>Good</td>\n",
              "    </tr>\n",
              "    <tr>\n",
              "      <th>...</th>\n",
              "      <td>...</td>\n",
              "      <td>...</td>\n",
              "      <td>...</td>\n",
              "      <td>...</td>\n",
              "      <td>...</td>\n",
              "    </tr>\n",
              "    <tr>\n",
              "      <th>9618</th>\n",
              "      <td>9618</td>\n",
              "      <td>21.32</td>\n",
              "      <td>7.49</td>\n",
              "      <td>212</td>\n",
              "      <td>Good</td>\n",
              "    </tr>\n",
              "    <tr>\n",
              "      <th>9619</th>\n",
              "      <td>9619</td>\n",
              "      <td>21.32</td>\n",
              "      <td>7.49</td>\n",
              "      <td>212</td>\n",
              "      <td>Good</td>\n",
              "    </tr>\n",
              "    <tr>\n",
              "      <th>9620</th>\n",
              "      <td>9620</td>\n",
              "      <td>21.34</td>\n",
              "      <td>7.49</td>\n",
              "      <td>212</td>\n",
              "      <td>Good</td>\n",
              "    </tr>\n",
              "    <tr>\n",
              "      <th>9621</th>\n",
              "      <td>9621</td>\n",
              "      <td>21.34</td>\n",
              "      <td>7.50</td>\n",
              "      <td>212</td>\n",
              "      <td>Good</td>\n",
              "    </tr>\n",
              "    <tr>\n",
              "      <th>9622</th>\n",
              "      <td>9622</td>\n",
              "      <td>21.31</td>\n",
              "      <td>7.51</td>\n",
              "      <td>212</td>\n",
              "      <td>Good</td>\n",
              "    </tr>\n",
              "  </tbody>\n",
              "</table>\n",
              "<p>9623 rows × 5 columns</p>\n",
              "</div>"
            ],
            "text/plain": [
              "       sno  Temperature    pH  Turbidity Water_quality\n",
              "0        0        20.99  7.81        197          Good\n",
              "1        1        20.99  7.81        197          Good\n",
              "2        2        20.98  7.81        197          Good\n",
              "3        3        20.98  7.81        197          Good\n",
              "4        4        20.98  7.81        197          Good\n",
              "...    ...          ...   ...        ...           ...\n",
              "9618  9618        21.32  7.49        212          Good\n",
              "9619  9619        21.32  7.49        212          Good\n",
              "9620  9620        21.34  7.49        212          Good\n",
              "9621  9621        21.34  7.50        212          Good\n",
              "9622  9622        21.31  7.51        212          Good\n",
              "\n",
              "[9623 rows x 5 columns]"
            ]
          },
          "execution_count": 2,
          "metadata": {},
          "output_type": "execute_result"
        }
      ],
      "source": [
        "df1=pd.read_csv('aquafarm_water_parameters_data.csv',encoding=\"ISO-8859-1\")\n",
        "df1.fillna(0, inplace=True)\n",
        "df1"
      ]
    },
    {
      "cell_type": "code",
      "execution_count": null,
      "metadata": {
        "colab": {
          "base_uri": "https://localhost:8080/",
          "height": 224
        },
        "id": "dUU6rS-TZGAN",
        "outputId": "5ebbbd91-2d63-47ec-db47-1ea16132530f"
      },
      "outputs": [
        {
          "data": {
            "text/html": [
              "<div>\n",
              "<style scoped>\n",
              "    .dataframe tbody tr th:only-of-type {\n",
              "        vertical-align: middle;\n",
              "    }\n",
              "\n",
              "    .dataframe tbody tr th {\n",
              "        vertical-align: top;\n",
              "    }\n",
              "\n",
              "    .dataframe thead th {\n",
              "        text-align: right;\n",
              "    }\n",
              "</style>\n",
              "<table border=\"1\" class=\"dataframe\">\n",
              "  <thead>\n",
              "    <tr style=\"text-align: right;\">\n",
              "      <th></th>\n",
              "      <th>sno</th>\n",
              "      <th>Temperature</th>\n",
              "      <th>pH</th>\n",
              "      <th>Turbidity</th>\n",
              "      <th>Water_quality</th>\n",
              "    </tr>\n",
              "  </thead>\n",
              "  <tbody>\n",
              "    <tr>\n",
              "      <th>0</th>\n",
              "      <td>0</td>\n",
              "      <td>20.99</td>\n",
              "      <td>7.81</td>\n",
              "      <td>197</td>\n",
              "      <td>Good</td>\n",
              "    </tr>\n",
              "    <tr>\n",
              "      <th>1</th>\n",
              "      <td>1</td>\n",
              "      <td>20.99</td>\n",
              "      <td>7.81</td>\n",
              "      <td>197</td>\n",
              "      <td>Good</td>\n",
              "    </tr>\n",
              "    <tr>\n",
              "      <th>2</th>\n",
              "      <td>2</td>\n",
              "      <td>20.98</td>\n",
              "      <td>7.81</td>\n",
              "      <td>197</td>\n",
              "      <td>Good</td>\n",
              "    </tr>\n",
              "    <tr>\n",
              "      <th>3</th>\n",
              "      <td>3</td>\n",
              "      <td>20.98</td>\n",
              "      <td>7.81</td>\n",
              "      <td>197</td>\n",
              "      <td>Good</td>\n",
              "    </tr>\n",
              "    <tr>\n",
              "      <th>4</th>\n",
              "      <td>4</td>\n",
              "      <td>20.98</td>\n",
              "      <td>7.81</td>\n",
              "      <td>197</td>\n",
              "      <td>Good</td>\n",
              "    </tr>\n",
              "  </tbody>\n",
              "</table>\n",
              "</div>"
            ],
            "text/plain": [
              "   sno  Temperature    pH  Turbidity Water_quality\n",
              "0    0        20.99  7.81        197          Good\n",
              "1    1        20.99  7.81        197          Good\n",
              "2    2        20.98  7.81        197          Good\n",
              "3    3        20.98  7.81        197          Good\n",
              "4    4        20.98  7.81        197          Good"
            ]
          },
          "execution_count": 3,
          "metadata": {},
          "output_type": "execute_result"
        }
      ],
      "source": [
        "# Explore data\n",
        "\n",
        "#df = pd.read_csv(io.StringIO(uploaded['candy-data.csv'].decode('utf-8')))\n",
        "#df = df[['Temp','ph','Turb','Wq']] \t\n",
        "df1=df1[['sno','Temperature','pH','Turbidity','Water_quality']]\n",
        "df1.head()"
      ]
    },
    {
      "cell_type": "code",
      "execution_count": null,
      "metadata": {
        "id": "kOwzCIK6ltwi"
      },
      "outputs": [],
      "source": [
        "df=df1.replace({'Water_quality' : { 'Good' : 1, 'Bad' : 0}})"
      ]
    },
    {
      "cell_type": "code",
      "execution_count": null,
      "metadata": {
        "id": "MMQS2kCrltwj",
        "outputId": "d8b43da4-2c21-46b2-d705-1ebee1a0a166"
      },
      "outputs": [
        {
          "data": {
            "text/html": [
              "<div>\n",
              "<style scoped>\n",
              "    .dataframe tbody tr th:only-of-type {\n",
              "        vertical-align: middle;\n",
              "    }\n",
              "\n",
              "    .dataframe tbody tr th {\n",
              "        vertical-align: top;\n",
              "    }\n",
              "\n",
              "    .dataframe thead th {\n",
              "        text-align: right;\n",
              "    }\n",
              "</style>\n",
              "<table border=\"1\" class=\"dataframe\">\n",
              "  <thead>\n",
              "    <tr style=\"text-align: right;\">\n",
              "      <th></th>\n",
              "      <th>sno</th>\n",
              "      <th>Temperature</th>\n",
              "      <th>pH</th>\n",
              "      <th>Turbidity</th>\n",
              "      <th>Water_quality</th>\n",
              "    </tr>\n",
              "  </thead>\n",
              "  <tbody>\n",
              "    <tr>\n",
              "      <th>0</th>\n",
              "      <td>0</td>\n",
              "      <td>20.99</td>\n",
              "      <td>7.81</td>\n",
              "      <td>197</td>\n",
              "      <td>1</td>\n",
              "    </tr>\n",
              "    <tr>\n",
              "      <th>1</th>\n",
              "      <td>1</td>\n",
              "      <td>20.99</td>\n",
              "      <td>7.81</td>\n",
              "      <td>197</td>\n",
              "      <td>1</td>\n",
              "    </tr>\n",
              "    <tr>\n",
              "      <th>2</th>\n",
              "      <td>2</td>\n",
              "      <td>20.98</td>\n",
              "      <td>7.81</td>\n",
              "      <td>197</td>\n",
              "      <td>1</td>\n",
              "    </tr>\n",
              "    <tr>\n",
              "      <th>3</th>\n",
              "      <td>3</td>\n",
              "      <td>20.98</td>\n",
              "      <td>7.81</td>\n",
              "      <td>197</td>\n",
              "      <td>1</td>\n",
              "    </tr>\n",
              "    <tr>\n",
              "      <th>4</th>\n",
              "      <td>4</td>\n",
              "      <td>20.98</td>\n",
              "      <td>7.81</td>\n",
              "      <td>197</td>\n",
              "      <td>1</td>\n",
              "    </tr>\n",
              "    <tr>\n",
              "      <th>...</th>\n",
              "      <td>...</td>\n",
              "      <td>...</td>\n",
              "      <td>...</td>\n",
              "      <td>...</td>\n",
              "      <td>...</td>\n",
              "    </tr>\n",
              "    <tr>\n",
              "      <th>9618</th>\n",
              "      <td>9618</td>\n",
              "      <td>21.32</td>\n",
              "      <td>7.49</td>\n",
              "      <td>212</td>\n",
              "      <td>1</td>\n",
              "    </tr>\n",
              "    <tr>\n",
              "      <th>9619</th>\n",
              "      <td>9619</td>\n",
              "      <td>21.32</td>\n",
              "      <td>7.49</td>\n",
              "      <td>212</td>\n",
              "      <td>1</td>\n",
              "    </tr>\n",
              "    <tr>\n",
              "      <th>9620</th>\n",
              "      <td>9620</td>\n",
              "      <td>21.34</td>\n",
              "      <td>7.49</td>\n",
              "      <td>212</td>\n",
              "      <td>1</td>\n",
              "    </tr>\n",
              "    <tr>\n",
              "      <th>9621</th>\n",
              "      <td>9621</td>\n",
              "      <td>21.34</td>\n",
              "      <td>7.50</td>\n",
              "      <td>212</td>\n",
              "      <td>1</td>\n",
              "    </tr>\n",
              "    <tr>\n",
              "      <th>9622</th>\n",
              "      <td>9622</td>\n",
              "      <td>21.31</td>\n",
              "      <td>7.51</td>\n",
              "      <td>212</td>\n",
              "      <td>1</td>\n",
              "    </tr>\n",
              "  </tbody>\n",
              "</table>\n",
              "<p>9623 rows × 5 columns</p>\n",
              "</div>"
            ],
            "text/plain": [
              "       sno  Temperature    pH  Turbidity  Water_quality\n",
              "0        0        20.99  7.81        197              1\n",
              "1        1        20.99  7.81        197              1\n",
              "2        2        20.98  7.81        197              1\n",
              "3        3        20.98  7.81        197              1\n",
              "4        4        20.98  7.81        197              1\n",
              "...    ...          ...   ...        ...            ...\n",
              "9618  9618        21.32  7.49        212              1\n",
              "9619  9619        21.32  7.49        212              1\n",
              "9620  9620        21.34  7.49        212              1\n",
              "9621  9621        21.34  7.50        212              1\n",
              "9622  9622        21.31  7.51        212              1\n",
              "\n",
              "[9623 rows x 5 columns]"
            ]
          },
          "execution_count": 5,
          "metadata": {},
          "output_type": "execute_result"
        }
      ],
      "source": [
        "df"
      ]
    },
    {
      "cell_type": "code",
      "execution_count": null,
      "metadata": {
        "id": "x2wd5exSa64p"
      },
      "outputs": [],
      "source": [
        "# Split data into train test sets\n",
        "\n",
        "from sklearn.model_selection import train_test_split\n",
        "trainingSet, testSet = train_test_split(df, test_size=0.2)"
      ]
    },
    {
      "cell_type": "code",
      "execution_count": null,
      "metadata": {
        "id": "adkqunikbhGd"
      },
      "outputs": [],
      "source": [
        "# Creating the dataframes for training and test datasets\n",
        "train_df = trainingSet\n",
        "test_df = testSet\n",
        "\n",
        "#Clean the missing values if needed\n",
        "#train_df = train_df.dropna()\n",
        "#test_df = test_df.dropna()\n"
      ]
    },
    {
      "cell_type": "code",
      "execution_count": null,
      "metadata": {
        "id": "1YUwLtOBb1MN"
      },
      "outputs": [],
      "source": [
        "#Since the data is already split into Train and Test datasets, load the values into X_train, X_test, y_train, y_test\n",
        "#X_train = train_df.iloc[:,:-1].values\n",
        "#y_train = train_df.iloc[:,1].values\n",
        "#X_test = test_df.iloc[:,:-1].values\n",
        "#y_test = test_df.iloc[:,1].values\n",
        "\n",
        "X_train = train_df[['Temperature','pH','Turbidity']] \t\n",
        "\n",
        "y_train = train_df[\"Water_quality\"]\n",
        "\n",
        "X_test = test_df[['Temperature','pH','Turbidity']] \n",
        "y_test = test_df[\"Water_quality\"]\n",
        "\n"
      ]
    },
    {
      "cell_type": "code",
      "execution_count": null,
      "metadata": {
        "colab": {
          "base_uri": "https://localhost:8080/",
          "height": 125
        },
        "id": "TtKeefg-b_NK",
        "outputId": "a3f33bfe-54c3-4396-ba0a-57cdf8db51f0"
      },
      "outputs": [
        {
          "data": {
            "text/plain": [
              "1925"
            ]
          },
          "execution_count": 9,
          "metadata": {},
          "output_type": "execute_result"
        }
      ],
      "source": [
        "\n",
        "len(y_test)"
      ]
    },
    {
      "cell_type": "code",
      "execution_count": null,
      "metadata": {
        "id": "__VPl8pcltwq",
        "outputId": "90aa6ca4-fb7b-44c5-e9fb-9d13790115a0"
      },
      "outputs": [
        {
          "data": {
            "text/plain": [
              "1925"
            ]
          },
          "execution_count": 10,
          "metadata": {},
          "output_type": "execute_result"
        }
      ],
      "source": [
        "len(X_test)"
      ]
    },
    {
      "cell_type": "code",
      "execution_count": null,
      "metadata": {
        "id": "BxsPUCS5ltwr",
        "outputId": "019ccd4e-ce14-49ad-f9cd-aaaeefdd0ca9"
      },
      "outputs": [
        {
          "data": {
            "text/plain": [
              "7698"
            ]
          },
          "execution_count": 11,
          "metadata": {},
          "output_type": "execute_result"
        }
      ],
      "source": [
        "len(X_train)"
      ]
    },
    {
      "cell_type": "code",
      "execution_count": null,
      "metadata": {
        "id": "6WUlYKJLltwv",
        "outputId": "8cdda42f-18c8-462d-b9d5-b6a3ee83f8e5"
      },
      "outputs": [
        {
          "data": {
            "text/plain": [
              "7698"
            ]
          },
          "execution_count": 12,
          "metadata": {},
          "output_type": "execute_result"
        }
      ],
      "source": [
        "len(y_train)"
      ]
    },
    {
      "cell_type": "code",
      "execution_count": null,
      "metadata": {
        "id": "vUAUsHwGltw1",
        "outputId": "fc53b733-8b42-48b2-bb2a-5bbd23126123"
      },
      "outputs": [
        {
          "data": {
            "text/html": [
              "<div>\n",
              "<style scoped>\n",
              "    .dataframe tbody tr th:only-of-type {\n",
              "        vertical-align: middle;\n",
              "    }\n",
              "\n",
              "    .dataframe tbody tr th {\n",
              "        vertical-align: top;\n",
              "    }\n",
              "\n",
              "    .dataframe thead th {\n",
              "        text-align: right;\n",
              "    }\n",
              "</style>\n",
              "<table border=\"1\" class=\"dataframe\">\n",
              "  <thead>\n",
              "    <tr style=\"text-align: right;\">\n",
              "      <th></th>\n",
              "      <th>Temperature</th>\n",
              "      <th>pH</th>\n",
              "      <th>Turbidity</th>\n",
              "    </tr>\n",
              "  </thead>\n",
              "  <tbody>\n",
              "    <tr>\n",
              "      <th>9022</th>\n",
              "      <td>15.61</td>\n",
              "      <td>5.92</td>\n",
              "      <td>212</td>\n",
              "    </tr>\n",
              "    <tr>\n",
              "      <th>4960</th>\n",
              "      <td>18.26</td>\n",
              "      <td>8.31</td>\n",
              "      <td>198</td>\n",
              "    </tr>\n",
              "    <tr>\n",
              "      <th>5683</th>\n",
              "      <td>22.52</td>\n",
              "      <td>7.28</td>\n",
              "      <td>202</td>\n",
              "    </tr>\n",
              "    <tr>\n",
              "      <th>7754</th>\n",
              "      <td>22.70</td>\n",
              "      <td>7.51</td>\n",
              "      <td>259</td>\n",
              "    </tr>\n",
              "    <tr>\n",
              "      <th>6318</th>\n",
              "      <td>17.68</td>\n",
              "      <td>7.30</td>\n",
              "      <td>270</td>\n",
              "    </tr>\n",
              "    <tr>\n",
              "      <th>...</th>\n",
              "      <td>...</td>\n",
              "      <td>...</td>\n",
              "      <td>...</td>\n",
              "    </tr>\n",
              "    <tr>\n",
              "      <th>3085</th>\n",
              "      <td>19.50</td>\n",
              "      <td>8.42</td>\n",
              "      <td>218</td>\n",
              "    </tr>\n",
              "    <tr>\n",
              "      <th>5957</th>\n",
              "      <td>20.89</td>\n",
              "      <td>7.93</td>\n",
              "      <td>213</td>\n",
              "    </tr>\n",
              "    <tr>\n",
              "      <th>8732</th>\n",
              "      <td>17.26</td>\n",
              "      <td>7.14</td>\n",
              "      <td>220</td>\n",
              "    </tr>\n",
              "    <tr>\n",
              "      <th>3367</th>\n",
              "      <td>16.10</td>\n",
              "      <td>8.24</td>\n",
              "      <td>215</td>\n",
              "    </tr>\n",
              "    <tr>\n",
              "      <th>8367</th>\n",
              "      <td>20.74</td>\n",
              "      <td>8.21</td>\n",
              "      <td>231</td>\n",
              "    </tr>\n",
              "  </tbody>\n",
              "</table>\n",
              "<p>1925 rows × 3 columns</p>\n",
              "</div>"
            ],
            "text/plain": [
              "      Temperature    pH  Turbidity\n",
              "9022        15.61  5.92        212\n",
              "4960        18.26  8.31        198\n",
              "5683        22.52  7.28        202\n",
              "7754        22.70  7.51        259\n",
              "6318        17.68  7.30        270\n",
              "...           ...   ...        ...\n",
              "3085        19.50  8.42        218\n",
              "5957        20.89  7.93        213\n",
              "8732        17.26  7.14        220\n",
              "3367        16.10  8.24        215\n",
              "8367        20.74  8.21        231\n",
              "\n",
              "[1925 rows x 3 columns]"
            ]
          },
          "execution_count": 13,
          "metadata": {},
          "output_type": "execute_result"
        }
      ],
      "source": [
        "X_test"
      ]
    },
    {
      "cell_type": "code",
      "execution_count": null,
      "metadata": {
        "id": "L7rpeIxHltw3"
      },
      "outputs": [],
      "source": [
        "x1_test = [[10,10,245]] "
      ]
    },
    {
      "cell_type": "code",
      "execution_count": null,
      "metadata": {
        "id": "wGyvIZd-ltw4"
      },
      "outputs": [],
      "source": [
        "#y1_test=[1]"
      ]
    },
    {
      "cell_type": "markdown",
      "metadata": {
        "id": "1gZ169R5gfuj"
      },
      "source": [
        "### Data Exploration"
      ]
    },
    {
      "cell_type": "code",
      "execution_count": null,
      "metadata": {
        "id": "GyUVM4taltxA"
      },
      "outputs": [],
      "source": [
        ""
      ]
    },
    {
      "cell_type": "code",
      "execution_count": null,
      "metadata": {
        "colab": {
          "base_uri": "https://localhost:8080/",
          "height": 71
        },
        "id": "Nd-4WFlCgqYM",
        "outputId": "bf25a8f1-80c6-4572-cb9c-b07b38b67ca7"
      },
      "outputs": [
        {
          "data": {
            "text/plain": [
              "1    6596\n",
              "0    1102\n",
              "Name: Water_quality, dtype: int64"
            ]
          },
          "execution_count": 16,
          "metadata": {},
          "output_type": "execute_result"
        }
      ],
      "source": [
        "y_train.value_counts()"
      ]
    },
    {
      "cell_type": "code",
      "execution_count": null,
      "metadata": {
        "colab": {
          "base_uri": "https://localhost:8080/",
          "height": 309
        },
        "id": "svCiKJdVcE5b",
        "outputId": "9ae2a61a-337d-426e-8d54-dd1e385be4d0"
      },
      "outputs": [
        {
          "name": "stderr",
          "output_type": "stream",
          "text": [
            "C:\\Users\\DELL\\anaconda3\\lib\\site-packages\\seaborn\\_decorators.py:36: FutureWarning: Pass the following variable as a keyword arg: x. From version 0.12, the only valid positional argument will be `data`, and passing other arguments without an explicit keyword will result in an error or misinterpretation.\n",
            "  warnings.warn(\n"
          ]
        },
        {
          "data": {
            "image/png": "[encoded data removed]",
            "text/plain": [
              "<Figure size 432x288 with 1 Axes>"
            ]
          },
          "metadata": {},
          "output_type": "display_data"
        },
        {
          "data": {
            "text/plain": [
              "<Figure size 432x288 with 0 Axes>"
            ]
          },
          "metadata": {},
          "output_type": "display_data"
        }
      ],
      "source": [
        "sns.countplot(\"Water_quality\", data=train_df, palette='Blues_d')\n",
        "plt.show()\n",
        "plt.savefig('count_plot')"
      ]
    },
    {
      "cell_type": "code",
      "execution_count": null,
      "metadata": {
        "colab": {
          "base_uri": "https://localhost:8080/",
          "height": 53
        },
        "id": "INzp8XibdoxH",
        "outputId": "a9c042cf-fd4e-40ba-cc28-3f54b97bbb9e"
      },
      "outputs": [
        {
          "name": "stdout",
          "output_type": "stream",
          "text": [
            "percentage of bad water quality is 14.315406599116653\n",
            "percentage of good water quality 85.68459340088334\n"
          ]
        }
      ],
      "source": [
        "count_no_choc = len(train_df[train_df['Water_quality']==0])\n",
        "count_choc = len(train_df[train_df['Water_quality']==1])\n",
        "\n",
        "\n",
        "pct_of_no_choc = count_no_choc/(count_no_choc+count_choc)\n",
        "print(\"percentage of bad water quality is\", pct_of_no_choc*100)\n",
        "pct_of_choc = count_choc/(count_no_choc+count_choc)\n",
        "print(\"percentage of good water quality\", pct_of_choc*100)\n"
      ]
    },
    {
      "cell_type": "code",
      "execution_count": null,
      "metadata": {
        "id": "5UB6Q3ZeltxG",
        "outputId": "e1b8e9a9-2db0-4bb2-9222-29e801e1f5a4"
      },
      "outputs": [
        {
          "data": {
            "text/html": [
              "<div>\n",
              "<style scoped>\n",
              "    .dataframe tbody tr th:only-of-type {\n",
              "        vertical-align: middle;\n",
              "    }\n",
              "\n",
              "    .dataframe tbody tr th {\n",
              "        vertical-align: top;\n",
              "    }\n",
              "\n",
              "    .dataframe thead th {\n",
              "        text-align: right;\n",
              "    }\n",
              "</style>\n",
              "<table border=\"1\" class=\"dataframe\">\n",
              "  <thead>\n",
              "    <tr style=\"text-align: right;\">\n",
              "      <th></th>\n",
              "      <th>sno</th>\n",
              "      <th>Temperature</th>\n",
              "      <th>pH</th>\n",
              "      <th>Turbidity</th>\n",
              "      <th>Water_quality</th>\n",
              "    </tr>\n",
              "  </thead>\n",
              "  <tbody>\n",
              "    <tr>\n",
              "      <th>3113</th>\n",
              "      <td>3113</td>\n",
              "      <td>19.26</td>\n",
              "      <td>8.40</td>\n",
              "      <td>218</td>\n",
              "      <td>1</td>\n",
              "    </tr>\n",
              "    <tr>\n",
              "      <th>7936</th>\n",
              "      <td>7936</td>\n",
              "      <td>23.31</td>\n",
              "      <td>8.19</td>\n",
              "      <td>247</td>\n",
              "      <td>1</td>\n",
              "    </tr>\n",
              "    <tr>\n",
              "      <th>484</th>\n",
              "      <td>484</td>\n",
              "      <td>31.40</td>\n",
              "      <td>8.25</td>\n",
              "      <td>195</td>\n",
              "      <td>1</td>\n",
              "    </tr>\n",
              "    <tr>\n",
              "      <th>6202</th>\n",
              "      <td>6202</td>\n",
              "      <td>19.24</td>\n",
              "      <td>6.98</td>\n",
              "      <td>225</td>\n",
              "      <td>1</td>\n",
              "    </tr>\n",
              "    <tr>\n",
              "      <th>2224</th>\n",
              "      <td>2224</td>\n",
              "      <td>22.60</td>\n",
              "      <td>7.24</td>\n",
              "      <td>212</td>\n",
              "      <td>1</td>\n",
              "    </tr>\n",
              "    <tr>\n",
              "      <th>...</th>\n",
              "      <td>...</td>\n",
              "      <td>...</td>\n",
              "      <td>...</td>\n",
              "      <td>...</td>\n",
              "      <td>...</td>\n",
              "    </tr>\n",
              "    <tr>\n",
              "      <th>8819</th>\n",
              "      <td>8819</td>\n",
              "      <td>16.81</td>\n",
              "      <td>5.77</td>\n",
              "      <td>260</td>\n",
              "      <td>0</td>\n",
              "    </tr>\n",
              "    <tr>\n",
              "      <th>3096</th>\n",
              "      <td>3096</td>\n",
              "      <td>19.41</td>\n",
              "      <td>8.42</td>\n",
              "      <td>218</td>\n",
              "      <td>1</td>\n",
              "    </tr>\n",
              "    <tr>\n",
              "      <th>4958</th>\n",
              "      <td>4958</td>\n",
              "      <td>18.23</td>\n",
              "      <td>8.31</td>\n",
              "      <td>198</td>\n",
              "      <td>1</td>\n",
              "    </tr>\n",
              "    <tr>\n",
              "      <th>3045</th>\n",
              "      <td>3045</td>\n",
              "      <td>19.73</td>\n",
              "      <td>10.10</td>\n",
              "      <td>218</td>\n",
              "      <td>1</td>\n",
              "    </tr>\n",
              "    <tr>\n",
              "      <th>4563</th>\n",
              "      <td>4563</td>\n",
              "      <td>19.88</td>\n",
              "      <td>5.20</td>\n",
              "      <td>202</td>\n",
              "      <td>1</td>\n",
              "    </tr>\n",
              "  </tbody>\n",
              "</table>\n",
              "<p>7698 rows × 5 columns</p>\n",
              "</div>"
            ],
            "text/plain": [
              "       sno  Temperature     pH  Turbidity  Water_quality\n",
              "3113  3113        19.26   8.40        218              1\n",
              "7936  7936        23.31   8.19        247              1\n",
              "484    484        31.40   8.25        195              1\n",
              "6202  6202        19.24   6.98        225              1\n",
              "2224  2224        22.60   7.24        212              1\n",
              "...    ...          ...    ...        ...            ...\n",
              "8819  8819        16.81   5.77        260              0\n",
              "3096  3096        19.41   8.42        218              1\n",
              "4958  4958        18.23   8.31        198              1\n",
              "3045  3045        19.73  10.10        218              1\n",
              "4563  4563        19.88   5.20        202              1\n",
              "\n",
              "[7698 rows x 5 columns]"
            ]
          },
          "execution_count": 19,
          "metadata": {},
          "output_type": "execute_result"
        }
      ],
      "source": [
        "train_df"
      ]
    },
    {
      "cell_type": "code",
      "execution_count": null,
      "metadata": {
        "colab": {
          "base_uri": "https://localhost:8080/",
          "height": 162
        },
        "id": "krqJFW0NiRIU",
        "outputId": "f6461b4c-2e54-4f56-d0bd-2d03cdc87812"
      },
      "outputs": [
        {
          "data": {
            "text/html": [
              "<div>\n",
              "<style scoped>\n",
              "    .dataframe tbody tr th:only-of-type {\n",
              "        vertical-align: middle;\n",
              "    }\n",
              "\n",
              "    .dataframe tbody tr th {\n",
              "        vertical-align: top;\n",
              "    }\n",
              "\n",
              "    .dataframe thead th {\n",
              "        text-align: right;\n",
              "    }\n",
              "</style>\n",
              "<table border=\"1\" class=\"dataframe\">\n",
              "  <thead>\n",
              "    <tr style=\"text-align: right;\">\n",
              "      <th></th>\n",
              "      <th>sno</th>\n",
              "      <th>Temperature</th>\n",
              "      <th>pH</th>\n",
              "      <th>Turbidity</th>\n",
              "    </tr>\n",
              "    <tr>\n",
              "      <th>Water_quality</th>\n",
              "      <th></th>\n",
              "      <th></th>\n",
              "      <th></th>\n",
              "      <th></th>\n",
              "    </tr>\n",
              "  </thead>\n",
              "  <tbody>\n",
              "    <tr>\n",
              "      <th>0</th>\n",
              "      <td>6163.839383</td>\n",
              "      <td>18.267142</td>\n",
              "      <td>7.763367</td>\n",
              "      <td>240.172414</td>\n",
              "    </tr>\n",
              "    <tr>\n",
              "      <th>1</th>\n",
              "      <td>4585.223469</td>\n",
              "      <td>20.501163</td>\n",
              "      <td>7.861339</td>\n",
              "      <td>217.217404</td>\n",
              "    </tr>\n",
              "  </tbody>\n",
              "</table>\n",
              "</div>"
            ],
            "text/plain": [
              "                       sno  Temperature        pH   Turbidity\n",
              "Water_quality                                                \n",
              "0              6163.839383    18.267142  7.763367  240.172414\n",
              "1              4585.223469    20.501163  7.861339  217.217404"
            ]
          },
          "execution_count": 20,
          "metadata": {},
          "output_type": "execute_result"
        }
      ],
      "source": [
        "train_df.groupby('Water_quality').mean()"
      ]
    },
    {
      "cell_type": "markdown",
      "metadata": {
        "id": "jw8XnJRyEz4r"
      },
      "source": [
        "### Model Development and Prediction\n",
        "Import the Scikit Learn Logistic Regression module \n",
        "Fit model on the train set using fit() then perform prediction on test set using prediction"
      ]
    },
    {
      "cell_type": "code",
      "execution_count": null,
      "metadata": {
        "id": "4T-FpxI6wMaT",
        "scrolled": true
      },
      "outputs": [],
      "source": [
        "from sklearn.linear_model import LogisticRegression\n",
        "logreg = LogisticRegression()\n",
        "logreg.fit(X_train,y_train)\n",
        "y_pred = logreg.predict(X_test)"
      ]
    },
    {
      "cell_type": "code",
      "execution_count": null,
      "metadata": {
        "id": "nlRiG9MGltxK",
        "outputId": "d885859e-8c5e-4013-d02c-2befdecb30b7"
      },
      "outputs": [
        {
          "data": {
            "text/plain": [
              "array([1, 1, 1, ..., 1, 1, 1], dtype=int64)"
            ]
          },
          "execution_count": 23,
          "metadata": {},
          "output_type": "execute_result"
        }
      ],
      "source": [
        "y_pred"
      ]
    },
    {
      "cell_type": "code",
      "execution_count": null,
      "metadata": {
        "id": "gETra_K7FSEm",
        "outputId": "3ca8544c-1c50-4493-a2a5-6c9126ca0ed3"
      },
      "outputs": [
        {
          "name": "stdout",
          "output_type": "stream",
          "text": [
            "The water_quality is bad\n"
          ]
        }
      ],
      "source": [
        "y1_pred = logreg.predict(x1_test)\n",
        "if(y1_pred[0]==1):\n",
        "    print(\"The water_quality is good\")\n",
        "else:\n",
        "    print(\"The water_quality is bad\")"
      ]
    },
    {
      "cell_type": "code",
      "execution_count": null,
      "metadata": {
        "id": "JPzp7jgmltxL",
        "outputId": "898e7e26-b7bd-4ea2-9224-24738011c8a5"
      },
      "outputs": [
        {
          "data": {
            "text/plain": [
              "array([0], dtype=int64)"
            ]
          },
          "execution_count": 26,
          "metadata": {},
          "output_type": "execute_result"
        }
      ],
      "source": [
        "y1_pred"
      ]
    },
    {
      "cell_type": "markdown",
      "metadata": {
        "id": "wT5KSeK_FT16"
      },
      "source": [
        "### Evaluate model using confusion matrix\n",
        "This is basically looking at how well your model did on predictions"
      ]
    },
    {
      "cell_type": "code",
      "execution_count": null,
      "metadata": {
        "colab": {
          "base_uri": "https://localhost:8080/",
          "height": 53
        },
        "id": "--6mhjfrwNJq",
        "outputId": "6bb59979-1c8b-46bf-f83b-6ea911e2a039"
      },
      "outputs": [
        {
          "data": {
            "text/plain": [
              "array([[ 107,  163],\n",
              "       [  29, 1626]], dtype=int64)"
            ]
          },
          "execution_count": 125,
          "metadata": {},
          "output_type": "execute_result"
        }
      ],
      "source": [
        "from sklearn import metrics\n",
        "cnf_matrix = metrics.confusion_matrix(y_test, y_pred)\n",
        "cnf_matrix"
      ]
    },
    {
      "cell_type": "markdown",
      "metadata": {
        "id": "2uJKYyzkFvVM"
      },
      "source": [
        "### Visualize CFM (confusion matrix) using a heatmap"
      ]
    },
    {
      "cell_type": "code",
      "execution_count": null,
      "metadata": {
        "id": "qKysrjL1wPk-"
      },
      "outputs": [],
      "source": [
        "import numpy as np\n",
        "import matplotlib.pyplot as plt\n",
        "import seaborn as sns\n",
        "%matplotlib inline"
      ]
    },
    {
      "cell_type": "code",
      "execution_count": null,
      "metadata": {
        "colab": {
          "base_uri": "https://localhost:8080/",
          "height": 339
        },
        "id": "ZcblkSys9TOm",
        "outputId": "36edd537-68ed-4531-86dc-68128ae21dec"
      },
      "outputs": [
        {
          "data": {
            "text/plain": [
              "Text(0.5, 257.44, 'Predicted label')"
            ]
          },
          "execution_count": 127,
          "metadata": {},
          "output_type": "execute_result"
        },
        {
          "data": {
            "image/png": "[encoded data removed]",
            "text/plain": [
              "<Figure size 432x288 with 2 Axes>"
            ]
          },
          "metadata": {
            "needs_background": "light"
          },
          "output_type": "display_data"
        }
      ],
      "source": [
        "class_names=[0,1] # name  of classes\n",
        "fig, ax = plt.subplots()\n",
        "tick_marks = np.arange(len(class_names))\n",
        "plt.xticks(tick_marks, class_names)\n",
        "plt.yticks(tick_marks, class_names)\n",
        "# create heatmap\n",
        "sns.heatmap(pd.DataFrame(cnf_matrix), annot=True, cmap=\"YlGnBu\" ,fmt='g')\n",
        "ax.xaxis.set_label_position(\"top\")\n",
        "plt.tight_layout()\n",
        "plt.title('Confusion matrix', y=1.1)\n",
        "plt.ylabel('Actual label')\n",
        "plt.xlabel('Predicted label')"
      ]
    },
    {
      "cell_type": "markdown",
      "metadata": {
        "id": "bwFsPmQQGIiR"
      },
      "source": [
        "### CFM evaluation metrics Accuracy, Precision, Recall"
      ]
    },
    {
      "cell_type": "code",
      "execution_count": null,
      "metadata": {
        "colab": {
          "base_uri": "https://localhost:8080/",
          "height": 71
        },
        "id": "glRCpnJN9WAG",
        "outputId": "85a43e86-c6fe-47e7-93e0-f62358a91501"
      },
      "outputs": [
        {
          "name": "stdout",
          "output_type": "stream",
          "text": [
            "Accuracy: 0.9002597402597402\n",
            "Precision: 0.9088876467300168\n",
            "Recall: 0.9824773413897281\n"
          ]
        }
      ],
      "source": [
        "print(\"Accuracy:\",metrics.accuracy_score(y_test, y_pred))\n",
        "print(\"Precision:\",metrics.precision_score(y_test, y_pred))\n",
        "print(\"Recall:\",metrics.recall_score(y_test, y_pred))"
      ]
    },
    {
      "cell_type": "code",
      "execution_count": null,
      "metadata": {
        "colab": {
          "base_uri": "https://localhost:8080/",
          "height": 274
        },
        "id": "6JAbJD5l9cM4",
        "outputId": "4b61e214-498c-4c23-e690-fd290b7d29cb"
      },
      "outputs": [
        {
          "data": {
            "image/png": "[encoded data removed]",
            "text/plain": [
              "<Figure size 432x288 with 1 Axes>"
            ]
          },
          "metadata": {
            "needs_background": "light"
          },
          "output_type": "display_data"
        }
      ],
      "source": [
        "y_pred_proba = logreg.predict_proba(X_test)[::,1]\n",
        "fpr, tpr, _ = metrics.roc_curve(y_test,  y_pred_proba)\n",
        "auc = metrics.roc_auc_score(y_test, y_pred_proba)\n",
        "plt.plot(fpr,tpr,label=\"data 1, auc=\"+str(auc))\n",
        "plt.legend(loc=4)\n",
        "plt.show()"
      ]
    },
    {
      "cell_type": "code",
      "execution_count": null,
      "metadata": {
        "id": "hcZ4wJIf9nZ0"
      },
      "outputs": [],
      "source": [
        ""
      ]
    }
  ],
  "metadata": {
    "colab": {
      "collapsed_sections": [],
      "name": "LogisticRegression Acqua water.ipynb",
      "provenance": []
    },
    "kernelspec": {
      "display_name": "Python 3",
      "language": "python",
      "name": "python3"
    },
    "language_info": {
      "codemirror_mode": {
        "name": "ipython",
        "version": 3
      },
      "file_extension": ".py",
      "mimetype": "text/x-python",
      "name": "python",
      "nbconvert_exporter": "python",
      "pygments_lexer": "ipython3",
      "version": "3.8.8"
    }
  },
  "nbformat": 4,
  "nbformat_minor": 0
}